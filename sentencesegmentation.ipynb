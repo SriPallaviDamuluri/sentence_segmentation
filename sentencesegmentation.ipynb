{
 "cells": [
  {
   "cell_type": "code",
   "execution_count": 1,
   "metadata": {},
   "outputs": [
    {
     "name": "stdout",
     "output_type": "stream",
     "text": [
      "<div>\\n\\tFLAWED, by Cecilia Ahern, introduces to Celestine, a model female living in a dystopian world\n",
      "Celestine has the perfect boyfriend, whose father is the head judge of the Guild, a court that decides whether the accused is Flawed or not after intensive questioning\n",
      "Celestine has always followed the rules and stays away from the Flawed just as the government wants\n",
      "The Flawed are rule breakers and are never to be helped by citizens\n",
      "But when a Flawed man is seen dying at the front end of the bus, Celestine makes a decision that destroys her image --- she helps him\n",
      "In Celestine&rsquo;s eyes, this is a moral issue and she simply cannot allow an old man to die because two Unflawed people decided to take his seat\n",
      "In the eyes of the government, however, this is a sign of rebellion\n",
      "Not wanting to be marked as Flawed, Celestine receives all the help she can get from her boyfriend&rsquo;s father; but, in the end it&rsquo;s up to Celestine\n",
      "Will she hide her true intentions and become a monster in her mind or reveal her true intentions and become Flawed\n",
      "</div>\n"
     ]
    }
   ],
   "source": [
    "import urllib.request\n",
    "import re\n",
    "link=\"http://www.teenreads.com/reviews/flawed\"\n",
    "f=urllib.request.urlopen(link)\n",
    "myfile=f.read()\n",
    "s=re.search(r'<div>(.*?)</div>',str(myfile))\n",
    "m=s.group()\n",
    "sentences=re.split(r'[.?!][ ]*',m)\n",
    "for s in sentences:\n",
    "    print(s)\n"
   ]
  },
  {
   "cell_type": "code",
   "execution_count": null,
   "metadata": {
    "collapsed": true
   },
   "outputs": [],
   "source": []
  }
 ],
 "metadata": {
  "kernelspec": {
   "display_name": "Python [default]",
   "language": "python",
   "name": "python3"
  },
  "language_info": {
   "codemirror_mode": {
    "name": "ipython",
    "version": 3
   },
   "file_extension": ".py",
   "mimetype": "text/x-python",
   "name": "python",
   "nbconvert_exporter": "python",
   "pygments_lexer": "ipython3",
   "version": "3.6.1"
  }
 },
 "nbformat": 4,
 "nbformat_minor": 2
}
